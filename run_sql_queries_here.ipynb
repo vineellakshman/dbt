{
  "nbformat": 4,
  "nbformat_minor": 0,
  "metadata": {
    "colab": {
      "provenance": []
    },
    "kernelspec": {
      "name": "python3",
      "display_name": "Python 3"
    },
    "language_info": {
      "name": "python"
    }
  },
  "cells": [
    {
      "cell_type": "code",
      "execution_count": null,
      "metadata": {
        "id": "iIFCgLFQiEBb"
      },
      "outputs": [],
      "source": [
        "import duckdb\n",
        "import pandas as pd\n"
      ]
    },
    {
      "cell_type": "code",
      "source": [
        "sql_query = '''\n",
        "show tables\n",
        "'''\n",
        "\n",
        "with duckdb.connect('data/nyc_parking_violations.db') as con:\n",
        "    display(con.sql(sql_query).df())"
      ],
      "metadata": {
        "id": "Onm8w_RniHTC"
      },
      "execution_count": null,
      "outputs": []
    }
  ]
}